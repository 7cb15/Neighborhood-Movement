{
 "cells": [
  {
   "cell_type": "markdown",
   "metadata": {},
   "source": [
    "## Modeling neighbhood movements in Brooklyn using a Markov chain process"
   ]
  },
  {
   "cell_type": "code",
   "execution_count": 2,
   "metadata": {},
   "outputs": [],
   "source": [
    "import imageio\n",
    "import geopandas as gpd\n",
    "import numpy as np\n",
    "import matplotlib.pyplot as plt\n",
    "import pandas as pd\n",
    "import seaborn as sns \n",
    "import time\n",
    "from IPython.display import HTML"
   ]
  },
  {
   "cell_type": "code",
   "execution_count": 9,
   "metadata": {},
   "outputs": [
    {
     "data": {
      "text/html": [
       "<div>\n",
       "<style scoped>\n",
       "    .dataframe tbody tr th:only-of-type {\n",
       "        vertical-align: middle;\n",
       "    }\n",
       "\n",
       "    .dataframe tbody tr th {\n",
       "        vertical-align: top;\n",
       "    }\n",
       "\n",
       "    .dataframe thead th {\n",
       "        text-align: right;\n",
       "    }\n",
       "</style>\n",
       "<table border=\"1\" class=\"dataframe\">\n",
       "  <thead>\n",
       "    <tr style=\"text-align: right;\">\n",
       "      <th></th>\n",
       "      <th>State</th>\n",
       "      <th>County</th>\n",
       "      <th>City</th>\n",
       "      <th>Name</th>\n",
       "      <th>RegionID</th>\n",
       "      <th>geometry</th>\n",
       "      <th>coords</th>\n",
       "    </tr>\n",
       "  </thead>\n",
       "  <tbody>\n",
       "    <tr>\n",
       "      <th>0</th>\n",
       "      <td>NY</td>\n",
       "      <td>Kings</td>\n",
       "      <td>New York</td>\n",
       "      <td>Boerum Hill</td>\n",
       "      <td>272994</td>\n",
       "      <td>POLYGON ((-73.98682489707035 40.68846655576456...</td>\n",
       "      <td>(-73.9864896425407, 40.68600290969882)</td>\n",
       "    </tr>\n",
       "    <tr>\n",
       "      <th>1</th>\n",
       "      <td>NY</td>\n",
       "      <td>Kings</td>\n",
       "      <td>New York</td>\n",
       "      <td>Clinton Hill</td>\n",
       "      <td>270815</td>\n",
       "      <td>POLYGON ((-73.9619257224787 40.69778778197278,...</td>\n",
       "      <td>(-73.96455445229091, 40.689058350724)</td>\n",
       "    </tr>\n",
       "    <tr>\n",
       "      <th>2</th>\n",
       "      <td>NY</td>\n",
       "      <td>Kings</td>\n",
       "      <td>New York</td>\n",
       "      <td>DUMBO</td>\n",
       "      <td>270841</td>\n",
       "      <td>POLYGON ((-73.98446723099994 40.70646091900005...</td>\n",
       "      <td>(-73.99003960915954, 40.703545669500045)</td>\n",
       "    </tr>\n",
       "    <tr>\n",
       "      <th>3</th>\n",
       "      <td>NY</td>\n",
       "      <td>Kings</td>\n",
       "      <td>New York</td>\n",
       "      <td>Downtown</td>\n",
       "      <td>270825</td>\n",
       "      <td>POLYGON ((-73.98697203810939 40.70105040762233...</td>\n",
       "      <td>(-73.98678098579373, 40.693458468711725)</td>\n",
       "    </tr>\n",
       "    <tr>\n",
       "      <th>4</th>\n",
       "      <td>NY</td>\n",
       "      <td>Kings</td>\n",
       "      <td>New York</td>\n",
       "      <td>Fort Greene</td>\n",
       "      <td>273766</td>\n",
       "      <td>POLYGON ((-73.98230754099966 40.70227250100029...</td>\n",
       "      <td>(-73.97573066517539, 40.69136863239475)</td>\n",
       "    </tr>\n",
       "  </tbody>\n",
       "</table>\n",
       "</div>"
      ],
      "text/plain": [
       "  State County      City          Name RegionID  \\\n",
       "0    NY  Kings  New York   Boerum Hill   272994   \n",
       "1    NY  Kings  New York  Clinton Hill   270815   \n",
       "2    NY  Kings  New York         DUMBO   270841   \n",
       "3    NY  Kings  New York      Downtown   270825   \n",
       "4    NY  Kings  New York   Fort Greene   273766   \n",
       "\n",
       "                                            geometry  \\\n",
       "0  POLYGON ((-73.98682489707035 40.68846655576456...   \n",
       "1  POLYGON ((-73.9619257224787 40.69778778197278,...   \n",
       "2  POLYGON ((-73.98446723099994 40.70646091900005...   \n",
       "3  POLYGON ((-73.98697203810939 40.70105040762233...   \n",
       "4  POLYGON ((-73.98230754099966 40.70227250100029...   \n",
       "\n",
       "                                     coords  \n",
       "0    (-73.9864896425407, 40.68600290969882)  \n",
       "1     (-73.96455445229091, 40.689058350724)  \n",
       "2  (-73.99003960915954, 40.703545669500045)  \n",
       "3  (-73.98678098579373, 40.693458468711725)  \n",
       "4   (-73.97573066517539, 40.69136863239475)  "
      ]
     },
     "execution_count": 9,
     "metadata": {},
     "output_type": "execute_result"
    }
   ],
   "source": [
    "sns.set_style('white')\n",
    "# filters to apply to the data\n",
    "county = 'Kings'\n",
    "hoods  = ['Downtown', 'DUMBO', 'Fort Greene', 'Boerum Hill', 'Clinton Hill']\n",
    "\n",
    "def get_neighborhoods(file, county=county, neighborhoods=hoods):\n",
    "    '''\n",
    "    reads in geopandas file from Zillow, returns geodataframe with specified neighborhoods\n",
    "    '''\n",
    "    ny_gdf = gpd.read_file(file)\n",
    "    ny_gdf = ny_gdf[ny_gdf['County'] == county]\n",
    "    ny_gdf = ny_gdf[ny_gdf['Name'].isin(neighborhoods)]\n",
    "    \n",
    "    # locate coordinate points to plot neighborhood names\n",
    "    ny_gdf['coords'] = ny_gdf['geometry'].apply(lambda x: x.representative_point().coords[:])\n",
    "    ny_gdf['coords'] = [coords[0] for coords in ny_gdf['coords']]\n",
    "    return ny_gdf\n",
    "\n",
    "bk_neighborhoods = get_neighborhoods('ZillowNeighborhoodsNY.shp')\n",
    "bk_neighborhoods = bk_neighborhoods.sort_values('Name').reset_index(drop=True)\n",
    "bk_neighborhoods"
   ]
  },
  {
   "cell_type": "markdown",
   "metadata": {},
   "source": [
    "Above we can see the geodataframe. Now let's plot it: "
   ]
  },
  {
   "cell_type": "code",
   "execution_count": 10,
   "metadata": {},
   "outputs": [
    {
     "data": {
      "image/png": "[encoded data removed]",
      "text/plain": [
       "<matplotlib.figure.Figure at 0x7f5f389bbdd8>"
      ]
     },
     "metadata": {},
     "output_type": "display_data"
    }
   ],
   "source": [
    "bk_neighborhoods.plot(figsize=(8, 6), edgecolor='black', alpha=0.2)\n",
    "\n",
    "for idx, row in bk_neighborhoods.iterrows():\n",
    "    plt.annotate(s=row['Name'], xy=row['coords'], color='Black', horizontalalignment='center', size=10)"
   ]
  },
  {
   "cell_type": "markdown",
   "metadata": {},
   "source": [
    "Here, we define the likelihoods of moving from one neighborhood to another.\n",
    "Use a Dirichlet Distrobution (convenient for generating samples that sum to 1.0) to obtain an initial starting population for the neighborhoods https://docs.scipy.org/doc/numpy-1.13.0/reference/generated/numpy.random.dirichlet.html"
   ]
  },
  {
   "cell_type": "code",
   "execution_count": 39,
   "metadata": {},
   "outputs": [
    {
     "name": "stdout",
     "output_type": "stream",
     "text": [
      "Initial allocations:\n",
      "--------------------\n",
      "Boerum Hill   21.48%\n",
      "Clinton Hill   6.48%\n",
      "DUMBO          2.63%\n",
      "Downtown      17.04%\n",
      "Fort Greene   52.37%\n",
      "--------------------\n",
      "\n"
     ]
    },
    {
     "data": {
      "text/html": [
       "<div>\n",
       "<style scoped>\n",
       "    .dataframe tbody tr th:only-of-type {\n",
       "        vertical-align: middle;\n",
       "    }\n",
       "\n",
       "    .dataframe tbody tr th {\n",
       "        vertical-align: top;\n",
       "    }\n",
       "\n",
       "    .dataframe thead th {\n",
       "        text-align: right;\n",
       "    }\n",
       "</style>\n",
       "<table border=\"1\" class=\"dataframe\">\n",
       "  <thead>\n",
       "    <tr style=\"text-align: right;\">\n",
       "      <th>Name</th>\n",
       "      <th>Boerum Hill</th>\n",
       "      <th>Clinton Hill</th>\n",
       "      <th>DUMBO</th>\n",
       "      <th>Downtown</th>\n",
       "      <th>Fort Greene</th>\n",
       "    </tr>\n",
       "    <tr>\n",
       "      <th>Name</th>\n",
       "      <th></th>\n",
       "      <th></th>\n",
       "      <th></th>\n",
       "      <th></th>\n",
       "      <th></th>\n",
       "    </tr>\n",
       "  </thead>\n",
       "  <tbody>\n",
       "    <tr>\n",
       "      <th>Boerum Hill</th>\n",
       "      <td>0.40</td>\n",
       "      <td>0.10</td>\n",
       "      <td>0.10</td>\n",
       "      <td>0.20</td>\n",
       "      <td>0.20</td>\n",
       "    </tr>\n",
       "    <tr>\n",
       "      <th>Clinton Hill</th>\n",
       "      <td>0.10</td>\n",
       "      <td>0.40</td>\n",
       "      <td>0.10</td>\n",
       "      <td>0.15</td>\n",
       "      <td>0.25</td>\n",
       "    </tr>\n",
       "    <tr>\n",
       "      <th>DUMBO</th>\n",
       "      <td>0.10</td>\n",
       "      <td>0.10</td>\n",
       "      <td>0.40</td>\n",
       "      <td>0.20</td>\n",
       "      <td>0.20</td>\n",
       "    </tr>\n",
       "    <tr>\n",
       "      <th>Downtown</th>\n",
       "      <td>0.20</td>\n",
       "      <td>0.05</td>\n",
       "      <td>0.15</td>\n",
       "      <td>0.40</td>\n",
       "      <td>0.20</td>\n",
       "    </tr>\n",
       "    <tr>\n",
       "      <th>Fort Greene</th>\n",
       "      <td>0.15</td>\n",
       "      <td>0.20</td>\n",
       "      <td>0.05</td>\n",
       "      <td>0.20</td>\n",
       "      <td>0.40</td>\n",
       "    </tr>\n",
       "  </tbody>\n",
       "</table>\n",
       "</div>"
      ],
      "text/plain": [
       "Name          Boerum Hill  Clinton Hill  DUMBO  Downtown  Fort Greene\n",
       "Name                                                                 \n",
       "Boerum Hill          0.40          0.10   0.10      0.20         0.20\n",
       "Clinton Hill         0.10          0.40   0.10      0.15         0.25\n",
       "DUMBO                0.10          0.10   0.40      0.20         0.20\n",
       "Downtown             0.20          0.05   0.15      0.40         0.20\n",
       "Fort Greene          0.15          0.20   0.05      0.20         0.40"
      ]
     },
     "execution_count": 39,
     "metadata": {},
     "output_type": "execute_result"
    }
   ],
   "source": [
    "np.random.seed(42)\n",
    "data = np.random.dirichlet(alpha=[10,4,2,10,20], size=1)\n",
    "\n",
    "#####your code here##### # use a dirichlet distribution to create a 1-by-5 matrix of values that sum to 1.0 \n",
    "initial_vals = zip(list(bk_neighborhoods.Name), np.array(data)[0])\n",
    "\n",
    "print('Initial allocations:')\n",
    "print('--------------------')\n",
    "for i, j in initial_vals:\n",
    "    print('{:<13s} {:>5.2f}%'.format(i, round(j, 4)*100))\n",
    "print('--------------------')\n",
    "print()\n",
    "\n",
    "move_likelihoods = np.matrix('0.4 0.1 0.1 0.2 0.2; 0.1 0.4 0.1 0.15 0.25; 0.1 0.1 0.4 0.2 0.2;' \n",
    "                             + '0.2 0.05 0.15 0.4 0.2; 0.15 0.2 0.05 0.2 0.4')\n",
    "pd.DataFrame(data=move_likelihoods, index=bk_neighborhoods.Name, columns=bk_neighborhoods.Name) \n",
    "# we could use 'tabulate' here, as this is for visualization purposes, but a pd dataframe is \n",
    "# often just as clear and has more compatability with python environments"
   ]
  },
  {
   "cell_type": "markdown",
   "metadata": {},
   "source": [
    "Here we will build a Markov process and visualize it in a GIF; this is useful for seeing equilibrium state reached over time. We will then look at the numbers to confirm what the plot is showing us. "
   ]
  },
  {
   "cell_type": "code",
   "execution_count": 44,
   "metadata": {
    "scrolled": false
   },
   "outputs": [
    {
     "data": {
      "text/html": [
       "<img src=\"neighborhood_movement.gif\">"
      ],
      "text/plain": [
       "<IPython.core.display.HTML object>"
      ]
     },
     "execution_count": 44,
     "metadata": {},
     "output_type": "execute_result"
    }
   ],
   "source": [
    "years = 7\n",
    "pct_by_year = []\n",
    "\n",
    "initial_pos = np.matrix('21.48 6.48 2.63 17.04 52.37')\n",
    "\n",
    "#rat_postc * np.linalg.matrix_power(move_likelihoods, i)\n",
    "\n",
    "def plot_neighborhood_movement(years):\n",
    "\n",
    "    pct_in_hood = initial_pos * np.linalg.matrix_power(move_likelihoods, years)\n",
    "    #####your code here##### # use the matrix_power function to run a step in the markov process\n",
    "    bk_neighborhoods['pct_in_hood'] = np.array(pct_in_hood)[0]\n",
    "    pct_by_year.append(np.array(pct_in_hood)[0])\n",
    "    vmin, vmax = bk_neighborhoods['pct_in_hood'].min(), bk_neighborhoods['pct_in_hood'].max()\n",
    "\n",
    "    fig, ax = plt.subplots(figsize=(8,6))\n",
    "    base = bk_neighborhoods.plot(ax=ax, column='pct_in_hood', edgecolor='grey', \n",
    "                                cmap='Blues', vmin=vmin, vmax=vmax, legend=False)\n",
    "\n",
    "    plt.title('Year:{}'.format(years), size=16)\n",
    "    \n",
    "    for idx, row in bk_neighborhoods.iterrows():\n",
    "        \n",
    "        plt.annotate(s=row['Name'], xy=row['coords'], color='red', horizontalalignment='center', size=10)\n",
    "\n",
    "    fig.canvas.draw()\n",
    "    image = np.frombuffer(fig.canvas.tostring_rgb(), dtype='uint8')\n",
    "    image = image.reshape(fig.canvas.get_width_height()[::-1] + (3,))\n",
    "    plt.close(fig)\n",
    "    return image\n",
    "\n",
    "kwargs_write = {'fps':1.0, 'quantizer':'nq'}\n",
    "imageio.mimsave('neighborhood_movement.gif', [plot_neighborhood_movement(year) for year in range(years)], fps=1)\n",
    "\n",
    "HTML('<img src=\"neighborhood_movement.gif\">')"
   ]
  },
  {
   "cell_type": "markdown",
   "metadata": {},
   "source": [
    "#### Since Fort Green stats with a high initial position of ~52 and has strong propensity to remain in the neighborhood it stays a high concentration through all 7 Markov processes. Downtown, due to it's relative pull from Fort Green gains a lot of population, while DUMBO, which has low initial population and little propensity for movement from other areas into DUMBO it stays sparse for the entire 7 iterations. If we ran this for 100 iterations we would see a continuation of the trend to have higher population density in downtown, while Fort Greene would remain high, Boerum Hill in the middle, followed by Clinton Hill and then DUMBO, which has a steady state low population."
   ]
  }
 ],
 "metadata": {
  "kernelspec": {
   "display_name": "ADS",
   "language": "python",
   "name": "ads"
  },
  "language_info": {
   "codemirror_mode": {
    "name": "ipython",
    "version": 3
   },
   "file_extension": ".py",
   "mimetype": "text/x-python",
   "name": "python",
   "nbconvert_exporter": "python",
   "pygments_lexer": "ipython3",
   "version": "3.5.0"
  }
 },
 "nbformat": 4,
 "nbformat_minor": 2
}
